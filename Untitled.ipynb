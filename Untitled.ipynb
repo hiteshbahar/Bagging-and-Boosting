{
 "cells": [
  {
   "cell_type": "code",
   "execution_count": 2,
   "metadata": {},
   "outputs": [
    {
     "name": "stderr",
     "output_type": "stream",
     "text": [
      "C:\\Users\\Hitesh_Bahar\\Anaconda3\\lib\\site-packages\\sklearn\\ensemble\\weight_boosting.py:29: DeprecationWarning: numpy.core.umath_tests is an internal NumPy module and should not be imported. It will be removed in a future NumPy release.\n",
      "  from numpy.core.umath_tests import inner1d\n"
     ]
    }
   ],
   "source": [
    "import numpy as np\n",
    "import pandas as pd \n",
    "from sklearn.model_selection import train_test_split\n",
    "from sklearn.tree import DecisionTreeClassifier\n",
    "from sklearn. ensemble import  BaggingClassifier, AdaBoostClassifier\n",
    "import matplotlib.pyplot as plt\n",
    "from sklearn.preprocessing import LabelEncoder as lb"
   ]
  },
  {
   "cell_type": "code",
   "execution_count": 3,
   "metadata": {},
   "outputs": [],
   "source": [
    "def prepocessing():\n",
    "    input_data_train = pd.read_csv(\"income.train.txt\",delimiter =',',header = None)\n",
    "    input_data_test = pd.read_csv(\"income.test.txt\",delimiter =',',header = None)\n",
    "    input_data_dev = pd.read_csv(\"income.dev.txt\",delimiter =',',header = None)\n",
    "    \n",
    "    # Combining data \n",
    "    combined_data = pd.concat([input_data_train, input_data_test,input_data_dev], keys = ['train','test','dev'])\n",
    "    \n",
    "    \n",
    "    decision_vector = combined_data[[9]]\n",
    "    combined_data1 = combined_data.drop([9], axis =1)\n",
    "    \n",
    "    #Binning \n",
    "    combined_data1[0] = pd.cut(combined_data1[0],\n",
    "                               bins = [0,20,31,41,61,101],\n",
    "                               labels = ['Teenagers','Young Adults', 'Adults','Middle Age','Elderly'])\n",
    "    combined_data1[7] = pd.cut(combined_data1[7],\n",
    "                               bins = [0,20,41,61,81,101],\n",
    "                               labels = ['Zero to Twewnty','Twenty to Forty', 'Forty to Sixty','Sixty to Eighty','Eighty to Hundred'])\n",
    "    \n",
    "    combined_data1 = pd.get_dummies(combined_data1, columns=[0,1,2,3,4,5,6,7,8])\n",
    "#     print(combined_data1.head())\n",
    "#     print(combined_data1[7].unique())\n",
    "#     print(combined_data1.head())\n",
    "\n",
    "    # Extracting Train, Test and Dev data for X from combined data\n",
    "    X_train = combined_data1.xs('train')\n",
    "    X_test = combined_data1.xs('test')\n",
    "    X_dev = combined_data1.xs('dev')\n",
    "    \n",
    "#     print(X_train)\n",
    "    \n",
    "    # Extracting Train, Test and Dev data for Y from combined data\n",
    "    Y_train = decision_vector.xs('train')\n",
    "    Y_test = decision_vector.xs('test')\n",
    "    Y_dev = decision_vector.xs('dev')\n",
    "    \n",
    "    # Passing data through ILoc to convert panda data-frame to numpy-array\n",
    "    \n",
    "    X_train = X_train.iloc[:,:].values\n",
    "    X_test = X_test.iloc[:,:].values\n",
    "    X_dev = X_dev.iloc[:,:].values\n",
    "    \n",
    "    # Label encoding on Y values\n",
    "    labelenco = lb()\n",
    "    Y_train = labelenco.fit_transform(Y_train)\n",
    "    Y_test = labelenco.fit_transform(Y_test)\n",
    "    Y_dev = labelenco.fit_transform(Y_dev)\n",
    "    \n",
    "    # Replace all the zero's with -1 in Y \n",
    "    \n",
    "    Y_train[Y_train == 0] = -1\n",
    "    Y_test[Y_test == 0] = -1\n",
    "    Y_dev[Y_dev == 0] = -1\n",
    "    \n",
    "    return X_train,X_test,X_dev,Y_train,Y_test,Y_dev"
   ]
  },
  {
   "cell_type": "code",
   "execution_count": 5,
   "metadata": {},
   "outputs": [
    {
     "name": "stderr",
     "output_type": "stream",
     "text": [
      "C:\\Users\\Hitesh_Bahar\\Anaconda3\\lib\\site-packages\\sklearn\\preprocessing\\label.py:111: DataConversionWarning: A column-vector y was passed when a 1d array was expected. Please change the shape of y to (n_samples, ), for example using ravel().\n",
      "  y = column_or_1d(y, warn=True)\n"
     ]
    },
    {
     "name": "stdout",
     "output_type": "stream",
     "text": [
      "0.8806\n"
     ]
    }
   ],
   "source": [
    "if __name__ == '__main__':\n",
    "    X_train,X_test,X_dev,Y_train,Y_test,Y_dev= prepocessing()\n",
    "    \n",
    "    #descision tree\n",
    "    dt = DecisionTreeClassifier()\n",
    "    dt.fit(X_train,Y_train)\n",
    "    #Bagging \n",
    "    bg = BaggingClassifier(DecisionTreeClassifier(), max_samples= 0.5, max_features = 1.0, n_estimators = 20)\n",
    "    bg.fit(X_train,Y_train)\n",
    "    print(bg.score(X_train,Y_train))"
   ]
  },
  {
   "cell_type": "code",
   "execution_count": 8,
   "metadata": {},
   "outputs": [
    {
     "name": "stdout",
     "output_type": "stream",
     "text": [
      "0.7393939393939394\n",
      "0.764102564102564\n",
      "0.7906759906759907\n",
      "0.8144522144522145\n",
      "0.8167832167832167\n"
     ]
    }
   ],
   "source": [
    "#descision tree\n",
    "depths = [1,2,3,5,10]\n",
    "for depth in depths:\n",
    "    dt = DecisionTreeClassifier(max_depth= depth)\n",
    "    dt.fit(X_train,Y_train)\n",
    "    print(dt.score(X_test,Y_test))"
   ]
  },
  {
   "cell_type": "code",
   "execution_count": 9,
   "metadata": {},
   "outputs": [],
   "source": [
    "BaggingClassifier?"
   ]
  }
 ],
 "metadata": {
  "kernelspec": {
   "display_name": "Python 3",
   "language": "python",
   "name": "python3"
  },
  "language_info": {
   "codemirror_mode": {
    "name": "ipython",
    "version": 3
   },
   "file_extension": ".py",
   "mimetype": "text/x-python",
   "name": "python",
   "nbconvert_exporter": "python",
   "pygments_lexer": "ipython3",
   "version": "3.7.0"
  }
 },
 "nbformat": 4,
 "nbformat_minor": 2
}
